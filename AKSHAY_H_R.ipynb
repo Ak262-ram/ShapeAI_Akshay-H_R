{
  "nbformat": 4,
  "nbformat_minor": 0,
  "metadata": {
    "colab": {
      "name": "AKSHAY H.R",
      "provenance": [],
      "collapsed_sections": []
    },
    "kernelspec": {
      "name": "python3",
      "display_name": "Python 3"
    },
    "language_info": {
      "name": "python"
    }
  },
  "cells": [
    {
      "cell_type": "code",
      "metadata": {
        "colab": {
          "base_uri": "https://localhost:8080/"
        },
        "id": "B7_RL-aRfv4V",
        "outputId": "3b287c8c-f351-4ab0-c52d-8b8467a6bca4"
      },
      "source": [
        "from keras.datasets import mnist\n",
        "\n",
        "data = mnist.load_data()"
      ],
      "execution_count": 1,
      "outputs": [
        {
          "output_type": "stream",
          "text": [
            "Downloading data from https://storage.googleapis.com/tensorflow/tf-keras-datasets/mnist.npz\n",
            "11493376/11490434 [==============================] - 0s 0us/step\n"
          ],
          "name": "stdout"
        }
      ]
    },
    {
      "cell_type": "code",
      "metadata": {
        "id": "ZCeSqsGOgenO"
      },
      "source": [
        "((x_train, y_train), (x_test,y_test)) = data"
      ],
      "execution_count": null,
      "outputs": []
    },
    {
      "cell_type": "code",
      "metadata": {
        "id": "27ytzoE5hIdW"
      },
      "source": [
        "x_train = x_train.reshape((x_train.shape[0],28*28)).astype('float32')\n",
        "x_test = x_test.resshpe((x_test.shape[0],28*28)).astype('float32')"
      ],
      "execution_count": null,
      "outputs": []
    },
    {
      "cell_type": "code",
      "metadata": {
        "id": "2_EKxOnPj1Ec"
      },
      "source": [
        "x_tain =x_train / 255\n",
        "x_test = x_test / 255"
      ],
      "execution_count": null,
      "outputs": []
    },
    {
      "cell_type": "code",
      "metadata": {
        "id": "dL3mY73NmXr0"
      },
      "source": [
        "from keras.utils import np_utils\n",
        "\n",
        "     print(y_test.shape)\n",
        "\n",
        "\n",
        "     y_train = np_utils.to_categorical(y_train)\n",
        "     y_test  = np_utils.to_categorical(y_test)\n",
        "\n",
        "     num_classes = y_test.shape[1]\n",
        "     print(y_test.shape)"
      ],
      "execution_count": null,
      "outputs": []
    },
    {
      "cell_type": "code",
      "metadata": {
        "id": "cZEBkRgbpl7a"
      },
      "source": [
        "from keras.models import Sequential\n",
        "from keras.layers import Dense"
      ],
      "execution_count": null,
      "outputs": []
    },
    {
      "cell_type": "code",
      "metadata": {
        "id": "AKuo5fFvp_vz"
      },
      "source": [
        "model = sequential()\n",
        "model.add(Dense(32, input_dim = 28*28, activation='relu'))\n",
        "model.add(Dense(64, activation ='relu'))\n",
        "model.add(Dense(10, activation ='softmax'))"
      ],
      "execution_count": null,
      "outputs": []
    },
    {
      "cell_type": "code",
      "metadata": {
        "id": "NwzZVd7BvsFJ"
      },
      "source": [
        "model.compile(loss='categorical_crossentropy',optimizer='adam', metrics=['accuracy'])"
      ],
      "execution_count": null,
      "outputs": []
    },
    {
      "cell_type": "code",
      "metadata": {
        "id": "tAvSU5v4wXk2"
      },
      "source": [
        "model.summary()"
      ],
      "execution_count": null,
      "outputs": []
    }
  ]
}